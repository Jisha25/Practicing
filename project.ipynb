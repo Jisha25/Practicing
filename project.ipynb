# **IMPORT**

from google.colab import drive
drive.mount('/content/drive')


import pandas as pd
import numpy as np
import matplotlib.pyplot as plt
import seaborn as sns

# ***CLEANING***

load dataset

df = pd.read_csv('/content/drive/MyDrive/Colab Notebooks/files/User0_credit_card_transactions.csv.zip')

inspection




df.head()

df.info()

df.describe()

removing '$'  and convert amount to numeric

df['Amount'] = df['Amount'].replace('[\$,]', '', regex=True).astype(float)

handle null values

df.isnull().sum()

ensuring zip is numeric to use .median()

df['Zip'] = pd.to_numeric(df['Zip'], errors='coerce')


df['Merchant State'] = df['Merchant State'].fillna('Unknown')
df['Zip'] = df['Zip'].fillna(df['Zip'].median())
df['Errors?'] = df['Errors?'].fillna('No Error')

df.isnull().sum()

 Convert Time to datetime format

df['Time'] = pd.to_datetime(df['Time'], format='%H:%M', errors='coerce')


df.info()

adding column

df['Transaction Date'] = pd.to_datetime(df[['Year', 'Month', 'Day']])
df

add new value to user

num_groups = 4
df['User'] = (df.index % num_groups) + 1
df.head(20)

user_transactions = df['User'].value_counts()
print(user_transactions)

GROUP_BY

aggregate data by user

user_spending = df.groupby('User')['Amount'].sum().reset_index()

user_spending

transaction pattern

df['Hour'] = df['Time'].dt.hour
hourly_pattern = df.groupby('Hour')['Amount'].sum().reset_index()
hourly_pattern

for get spending trends

state_trends = df.groupby('Merchant State')['Amount'].sum().reset_index()
state_trends

get fruad pattern

fraud_stats = df.groupby('Is Fraud?')['Amount'].agg(['count', 'sum']).reset_index()
fraud_stats

rename user

df.rename(columns={'User': 'id'}, inplace=True)

print(f"Number of duplicates: {df.duplicated().sum()}")
df.drop_duplicates(inplace=True)

df.dtypes

CORRELATION

categorical columns to numeric

df['Use Chip'] = df['Use Chip'].apply(lambda x: 1 if 'Chip' in x else 0)
df['Is Fraud?'] = df['Is Fraud?'].map({'Yes': 1, 'No': 0})

for col in ['Merchant City', 'Merchant State', 'Errors?']:
  df[col] = df[col].astype('category').cat.codes


df['Transaction Timestamp'] = (df['Transaction Date'] - pd.Timestamp("1970-01-01")).dt.total_seconds()


numeric_data = df.select_dtypes(include=[np.number])
numeric_data

correlation_matrix = numeric_data.corr()
correlation_matrix

df.to_csv('cleaned_data.csv', index=False)

pd.read_csv('cleaned_data.csv')

# ***Visualization***

import pandas as pd
import matplotlib.pyplot as plt
import seaborn as sns

df = pd.read_csv('/content/drive/MyDrive/Colab Notebooks/files/cleaned_data.csv')

## **1. Correlation Heatmap**
Purpose: To identify relationships between numerical variables in the dataset.

plt.figure(figsize=(10, 8))

numeric_df = df.select_dtypes(include=['number'])

correlation_matrix = numeric_df.corr()

sns.heatmap(correlation_matrix, annot=True, fmt='.2f', cmap='coolwarm', linewidths=0.5)
plt.title("Correlation Heatmap of Numerical Features")
plt.show()

### **Conclusion**:

This heatmap visualizes the correlation between numerical features. High positive values (close to 1) indicate a strong positive correlation, values near 0 suggest a weak or no relationship, and values close to -1 represent a strong negative correlation. For example, the strong positive correlation (1.00) between 'Year' and 'Transaction Timestamp' is expected, as the timestamp is likely derived from the date columns.

## **2. Box Plot: Transaction Amount by Fraud Status**
Purpose: To analyze transaction amount distributions for fraudulent vs. non-fraudulent transactions.

plt.figure(figsize=(10, 6))
sns.boxplot(x='Is Fraud?', y='Amount', data=df, hue='Is Fraud?', palette='coolwarm')
plt.title("Transaction Amounts by Fraud Status")
plt.xlabel("Fraud Status (0 = Non-Fraud, 1 = Fraud)")
plt.ylabel("Transaction Amount")
plt.show()

### **Conclusion**:

This plot illustrates the distribution of transaction amounts for fraudulent and non-fraudulent transactions, highlighting the median, quartiles, and potential outliers. Fraudulent transactions tend to have a wider range of amounts and higher outliers compared to non-fraudulent transactions.



## **3. Line Plot: Hourly Transaction Trends**
Purpose: To observe transaction trends across different hours of the day.

hourly_pattern = df.groupby('Hour')['Amount'].sum().reset_index()

plt.figure(figsize=(10, 6))
sns.lineplot(x='Hour', y='Amount', data=hourly_pattern, marker='o', color='blue')
plt.title("Transaction Amounts by Hour")
plt.xlabel("Hour of the Day")
plt.ylabel("Total Transaction Amount")
plt.grid()
plt.show()


### **Conclusion**:
This line plot displays the total transaction amount for each hour of the day. It reveals patterns and trends in transaction activity throughout the day, allowing for identification of peak and low transaction periods.

## **4. Bar Plot: Spending by Merchant State**
Purpose: To understand geographic spending patterns.

state_trends = df.groupby('Merchant State')['Amount'].sum().reset_index()

plt.figure(figsize=(12, 6))
state_trends_sorted = state_trends.sort_values(by='Amount', ascending=False)
sns.barplot(x='Amount', y='Merchant State', data=state_trends_sorted)
plt.title("State-Wise Spending Trends")
plt.xlabel("Total Amount Spent")
plt.ylabel("Merchant State")
plt.xticks(rotation=90)
plt.show()

### **Conclusion:**
This bar plot showcases the total spending across different merchant states. The height of each bar corresponds to the total transaction amount for that state, providing insights into geographic spending patterns and identifying states with the highest transaction volumes.

## **5. Pair Plot: Exploring Relationships**
Purpose: To study relationships among key numerical variables.

pairplot_data = df[['Amount', 'Hour', 'id', 'Is Fraud?']]

sns.pairplot(pairplot_data, hue='Is Fraud?', palette='coolwarm', diag_kind='kde')
plt.suptitle("Pair Plot of Amount, Hour, id, and Fraud Status", y=1.02)
plt.show()


## Conclusion:
This pair plot visualizes relationships between selected numerical variables ('Amount', 'Hour', 'id', and 'Is Fraud?') using scatter plots for each pair. The diagonal displays the distribution of each individual variable. The plot helps in identifying patterns, correlations, and potential interactions between these variables.

## **6. Strip Plot: Transaction Amount by User**
Purpose: To visualize individual spending patterns across users.

plt.figure(figsize=(8, 6))

sns.stripplot(x='id', y='Amount', data=df, alpha=0.7, size=3, hue='Is Fraud?', palette='coolwarm')
plt.title("Transaction Amounts by User (Strip plot)", fontsize=16)
plt.xlabel("User ID", fontsize=12)
plt.ylabel("Transaction Amount", fontsize=12)

plt.yscale('log')

plt.legend(title="Fraud Status", loc='upper right')
plt.show()


### **Conclusion**:
This strip plot shows individual spending patterns across different users. Each dot represents a transaction, with the y-axis indicating the transaction amount and horizontal grouping by user ID. It helps visualize transaction frequency and amount variability for each user, highlighting potential outliers or unusual spending behaviors.

## **7. Box Plot: Transaction Amount by Chip Usage**
Purpose: To evaluate the impact of chip usage on transaction amounts.

plt.figure(figsize=(10, 6))
sns.boxplot(x='Use Chip', y='Amount', data=df, hue='Use Chip', palette='Set2')
plt.title("Transaction Amounts by Chip Usage")
plt.xlabel("Chip Usage (0 = No Chip, 1 = Chip Used)")
plt.ylabel("Transaction Amount")
plt.show()


### **Conclusion**:
This box plot compares the distribution of transaction amounts for transactions with and without chip usage. It helps assess whether chip usage has an impact on transaction amounts, potentially revealing differences in transaction patterns or fraud risk between the two groups.
